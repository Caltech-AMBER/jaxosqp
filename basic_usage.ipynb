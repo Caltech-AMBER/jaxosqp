{
 "cells": [
  {
   "cell_type": "code",
   "execution_count": 14,
   "id": "6a3e0c30-c009-424e-ae3f-0e75d6fcd164",
   "metadata": {},
   "outputs": [
    {
     "name": "stdout",
     "output_type": "stream",
     "text": [
      "The autoreload extension is already loaded. To reload it, use:\n",
      "  %reload_ext autoreload\n"
     ]
    }
   ],
   "source": [
    "from jaxosqp import osqp\n",
    "import jax\n",
    "import jax.numpy as jnp\n",
    "from jax import random\n",
    "\n",
    "from jax.experimental import sparse\n",
    "\n",
    "%load_ext autoreload\n",
    "%autoreload 2"
   ]
  },
  {
   "cell_type": "code",
   "execution_count": 30,
   "id": "0f26913e-290c-468e-9d85-8daac0afa00e",
   "metadata": {},
   "outputs": [
    {
     "name": "stderr",
     "output_type": "stream",
     "text": [
      "2023-05-23 12:46:54.023444: W external/tsl/tsl/framework/bfc_allocator.cc:485] Allocator (GPU_0_bfc) ran out of memory trying to allocate 3.35GiB (rounded to 3600000256)requested by op \n",
      "2023-05-23 12:46:54.023551: W external/tsl/tsl/framework/bfc_allocator.cc:497] ************************************************************************************________________\n",
      "2023-05-23 12:46:54.023629: E external/xla/xla/pjrt/pjrt_stream_executor_client.cc:2469] Execution of replica 0 failed: RESOURCE_EXHAUSTED: Out of memory while trying to allocate 3600000160 bytes.\n",
      "BufferAssignment OOM Debugging.\n",
      "BufferAssignment stats:\n",
      "             parameter allocation:    1.68GiB\n",
      "              constant allocation:         1B\n",
      "        maybe_live_out allocation:    2.72GiB\n",
      "     preallocated temp allocation:    3.35GiB\n",
      "  preallocated temp fragmentation:         0B (0.00%)\n",
      "                 total allocation:    7.75GiB\n",
      "              total fragmentation:  214.58MiB (2.70%)\n",
      "Peak buffers:\n",
      "\tBuffer 1:\n",
      "\t\tSize: 1.68GiB\n",
      "\t\tEntry Parameter Subshape: s32[100,2250000,2]\n",
      "\t\t==========================\n",
      "\n",
      "\tBuffer 2:\n",
      "\t\tSize: 1.68GiB\n",
      "\t\tXLA Label: fusion\n",
      "\t\tShape: s32[100,2250000,2]\n",
      "\t\t==========================\n",
      "\n",
      "\tBuffer 3:\n",
      "\t\tSize: 858.31MiB\n",
      "\t\tOperator: op_name=\"jit(_unique_sorted_mask)/jit(main)/jit(lexsort)/sort[dimension=1 is_stable=True num_keys=2]\" source_file=\"/tmp/ipykernel_568016/825966277.py\" source_line=6\n",
      "\t\tXLA Label: sort\n",
      "\t\tShape: s32[100,2250000]\n",
      "\t\t==========================\n",
      "\n",
      "\tBuffer 4:\n",
      "\t\tSize: 858.31MiB\n",
      "\t\tOperator: op_name=\"jit(_unique_sorted_mask)/jit(main)/jit(lexsort)/sort[dimension=1 is_stable=True num_keys=2]\" source_file=\"/tmp/ipykernel_568016/825966277.py\" source_line=6\n",
      "\t\tXLA Label: sort\n",
      "\t\tShape: s32[100,2250000]\n",
      "\t\t==========================\n",
      "\n",
      "\tBuffer 5:\n",
      "\t\tSize: 858.31MiB\n",
      "\t\tOperator: op_name=\"jit(_unique_sorted_mask)/jit(main)/jit(lexsort)/broadcast_in_dim[shape=(100, 2250000) broadcast_dimensions=(1,)]\" source_file=\"/tmp/ipykernel_568016/825966277.py\" source_line=6\n",
      "\t\tXLA Label: iota\n",
      "\t\tShape: s32[100,2250000]\n",
      "\t\t==========================\n",
      "\n",
      "\tBuffer 6:\n",
      "\t\tSize: 858.31MiB\n",
      "\t\tXLA Label: fusion\n",
      "\t\tShape: s32[100,2250000]\n",
      "\t\t==========================\n",
      "\n",
      "\tBuffer 7:\n",
      "\t\tSize: 858.31MiB\n",
      "\t\tOperator: op_name=\"jit(_unique_sorted_mask)/jit(main)/jit(lexsort)/sort[dimension=1 is_stable=True num_keys=2]\" source_file=\"/tmp/ipykernel_568016/825966277.py\" source_line=6\n",
      "\t\tXLA Label: sort\n",
      "\t\tShape: s32[100,2250000]\n",
      "\t\t==========================\n",
      "\n",
      "\tBuffer 8:\n",
      "\t\tSize: 214.58MiB\n",
      "\t\tOperator: op_name=\"jit(_unique_sorted_mask)/jit(main)/scatter[update_consts=() dimension_numbers=ScatterDimensionNumbers(update_window_dims=(0, 1), inserted_window_dims=(), scatter_dims_to_operand_dims=(1,)) indices_are_sorted=True unique_indices=True mode=GatherScatterMode.FILL_OR_DROP]\" source_file=\"/tmp/ipykernel_568016/825966277.py\" source_line=6\n",
      "\t\tXLA Label: pad\n",
      "\t\tShape: pred[100,2250000]\n",
      "\t\t==========================\n",
      "\n",
      "\tBuffer 9:\n",
      "\t\tSize: 32B\n",
      "\t\tOperator: op_name=\"jit(_unique_sorted_mask)/jit(main)/jit(lexsort)/sort[dimension=1 is_stable=True num_keys=2]\" source_file=\"/tmp/ipykernel_568016/825966277.py\" source_line=6\n",
      "\t\tXLA Label: sort\n",
      "\t\tShape: (s32[100,2250000], s32[100,2250000], s32[100,2250000], s32[100,2250000])\n",
      "\t\t==========================\n",
      "\n",
      "\tBuffer 10:\n",
      "\t\tSize: 24B\n",
      "\t\tXLA Label: tuple\n",
      "\t\tShape: (s32[100,2250000,2], pred[100,2250000], s32[100,2250000])\n",
      "\t\t==========================\n",
      "\n",
      "\tBuffer 11:\n",
      "\t\tSize: 16B\n",
      "\t\tXLA Label: fusion\n",
      "\t\tShape: (s32[100,2250000], s32[100,2250000])\n",
      "\t\t==========================\n",
      "\n",
      "\tBuffer 12:\n",
      "\t\tSize: 4B\n",
      "\t\tXLA Label: parameter\n",
      "\t\tShape: s32[]\n",
      "\t\t==========================\n",
      "\n",
      "\tBuffer 13:\n",
      "\t\tSize: 4B\n",
      "\t\tXLA Label: parameter\n",
      "\t\tShape: s32[]\n",
      "\t\t==========================\n",
      "\n",
      "\tBuffer 14:\n",
      "\t\tSize: 4B\n",
      "\t\tXLA Label: parameter\n",
      "\t\tShape: s32[]\n",
      "\t\t==========================\n",
      "\n",
      "\tBuffer 15:\n",
      "\t\tSize: 4B\n",
      "\t\tXLA Label: parameter\n",
      "\t\tShape: s32[]\n",
      "\t\t==========================\n",
      "\n",
      "\n"
     ]
    },
    {
     "ename": "XlaRuntimeError",
     "evalue": "RESOURCE_EXHAUSTED: Out of memory while trying to allocate 3600000160 bytes.\nBufferAssignment OOM Debugging.\nBufferAssignment stats:\n             parameter allocation:    1.68GiB\n              constant allocation:         1B\n        maybe_live_out allocation:    2.72GiB\n     preallocated temp allocation:    3.35GiB\n  preallocated temp fragmentation:         0B (0.00%)\n                 total allocation:    7.75GiB\n              total fragmentation:  214.58MiB (2.70%)\nPeak buffers:\n\tBuffer 1:\n\t\tSize: 1.68GiB\n\t\tEntry Parameter Subshape: s32[100,2250000,2]\n\t\t==========================\n\n\tBuffer 2:\n\t\tSize: 1.68GiB\n\t\tXLA Label: fusion\n\t\tShape: s32[100,2250000,2]\n\t\t==========================\n\n\tBuffer 3:\n\t\tSize: 858.31MiB\n\t\tOperator: op_name=\"jit(_unique_sorted_mask)/jit(main)/jit(lexsort)/sort[dimension=1 is_stable=True num_keys=2]\" source_file=\"/tmp/ipykernel_568016/825966277.py\" source_line=6\n\t\tXLA Label: sort\n\t\tShape: s32[100,2250000]\n\t\t==========================\n\n\tBuffer 4:\n\t\tSize: 858.31MiB\n\t\tOperator: op_name=\"jit(_unique_sorted_mask)/jit(main)/jit(lexsort)/sort[dimension=1 is_stable=True num_keys=2]\" source_file=\"/tmp/ipykernel_568016/825966277.py\" source_line=6\n\t\tXLA Label: sort\n\t\tShape: s32[100,2250000]\n\t\t==========================\n\n\tBuffer 5:\n\t\tSize: 858.31MiB\n\t\tOperator: op_name=\"jit(_unique_sorted_mask)/jit(main)/jit(lexsort)/broadcast_in_dim[shape=(100, 2250000) broadcast_dimensions=(1,)]\" source_file=\"/tmp/ipykernel_568016/825966277.py\" source_line=6\n\t\tXLA Label: iota\n\t\tShape: s32[100,2250000]\n\t\t==========================\n\n\tBuffer 6:\n\t\tSize: 858.31MiB\n\t\tXLA Label: fusion\n\t\tShape: s32[100,2250000]\n\t\t==========================\n\n\tBuffer 7:\n\t\tSize: 858.31MiB\n\t\tOperator: op_name=\"jit(_unique_sorted_mask)/jit(main)/jit(lexsort)/sort[dimension=1 is_stable=True num_keys=2]\" source_file=\"/tmp/ipykernel_568016/825966277.py\" source_line=6\n\t\tXLA Label: sort\n\t\tShape: s32[100,2250000]\n\t\t==========================\n\n\tBuffer 8:\n\t\tSize: 214.58MiB\n\t\tOperator: op_name=\"jit(_unique_sorted_mask)/jit(main)/scatter[update_consts=() dimension_numbers=ScatterDimensionNumbers(update_window_dims=(0, 1), inserted_window_dims=(), scatter_dims_to_operand_dims=(1,)) indices_are_sorted=True unique_indices=True mode=GatherScatterMode.FILL_OR_DROP]\" source_file=\"/tmp/ipykernel_568016/825966277.py\" source_line=6\n\t\tXLA Label: pad\n\t\tShape: pred[100,2250000]\n\t\t==========================\n\n\tBuffer 9:\n\t\tSize: 32B\n\t\tOperator: op_name=\"jit(_unique_sorted_mask)/jit(main)/jit(lexsort)/sort[dimension=1 is_stable=True num_keys=2]\" source_file=\"/tmp/ipykernel_568016/825966277.py\" source_line=6\n\t\tXLA Label: sort\n\t\tShape: (s32[100,2250000], s32[100,2250000], s32[100,2250000], s32[100,2250000])\n\t\t==========================\n\n\tBuffer 10:\n\t\tSize: 24B\n\t\tXLA Label: tuple\n\t\tShape: (s32[100,2250000,2], pred[100,2250000], s32[100,2250000])\n\t\t==========================\n\n\tBuffer 11:\n\t\tSize: 16B\n\t\tXLA Label: fusion\n\t\tShape: (s32[100,2250000], s32[100,2250000])\n\t\t==========================\n\n\tBuffer 12:\n\t\tSize: 4B\n\t\tXLA Label: parameter\n\t\tShape: s32[]\n\t\t==========================\n\n\tBuffer 13:\n\t\tSize: 4B\n\t\tXLA Label: parameter\n\t\tShape: s32[]\n\t\t==========================\n\n\tBuffer 14:\n\t\tSize: 4B\n\t\tXLA Label: parameter\n\t\tShape: s32[]\n\t\t==========================\n\n\tBuffer 15:\n\t\tSize: 4B\n\t\tXLA Label: parameter\n\t\tShape: s32[]\n\t\t==========================\n\n",
     "output_type": "error",
     "traceback": [
      "\u001b[0;31m---------------------------------------------------------------------------\u001b[0m",
      "\u001b[0;31mXlaRuntimeError\u001b[0m                           Traceback (most recent call last)",
      "Cell \u001b[0;32mIn[30], line 10\u001b[0m\n\u001b[1;32m      8\u001b[0m key, subkey \u001b[38;5;241m=\u001b[39m random\u001b[38;5;241m.\u001b[39msplit(key)\n\u001b[1;32m      9\u001b[0m P \u001b[38;5;241m=\u001b[39m sparse\u001b[38;5;241m.\u001b[39mrandom_bcoo(key, (B, n, n), nse\u001b[38;5;241m=\u001b[39m\u001b[38;5;241m0.15\u001b[39m, n_batch\u001b[38;5;241m=\u001b[39m\u001b[38;5;241m1\u001b[39m, generator\u001b[38;5;241m=\u001b[39mrandom\u001b[38;5;241m.\u001b[39mnormal)\n\u001b[0;32m---> 10\u001b[0m P \u001b[38;5;241m=\u001b[39m jax\u001b[38;5;241m.\u001b[39mvmap(outer)(P)\u001b[38;5;241m.\u001b[39mtodense() \u001b[38;5;66;03m# Ensure P >= 0.\u001b[39;00m\n\u001b[1;32m     12\u001b[0m key, subkey \u001b[38;5;241m=\u001b[39m random\u001b[38;5;241m.\u001b[39msplit(key)\n\u001b[1;32m     13\u001b[0m q \u001b[38;5;241m=\u001b[39m random\u001b[38;5;241m.\u001b[39mnormal(subkey, (B, n))\n",
      "    \u001b[0;31m[... skipping hidden 3 frame]\u001b[0m\n",
      "Cell \u001b[0;32mIn[30], line 6\u001b[0m, in \u001b[0;36m<lambda>\u001b[0;34m(A)\u001b[0m\n\u001b[1;32m      3\u001b[0m n \u001b[38;5;241m=\u001b[39m \u001b[38;5;241m100\u001b[39m\n\u001b[1;32m      4\u001b[0m m \u001b[38;5;241m=\u001b[39m \u001b[38;5;241m10\u001b[39m\u001b[38;5;241m*\u001b[39mn\n\u001b[0;32m----> 6\u001b[0m outer \u001b[38;5;241m=\u001b[39m \u001b[38;5;28;01mlambda\u001b[39;00m A: A \u001b[38;5;241m@\u001b[39m A\u001b[38;5;241m.\u001b[39mT \u001b[38;5;241m+\u001b[39m \u001b[38;5;241m1e-2\u001b[39m \u001b[38;5;241m*\u001b[39m sparse\u001b[38;5;241m.\u001b[39meye(n)\n\u001b[1;32m      7\u001b[0m key \u001b[38;5;241m=\u001b[39m random\u001b[38;5;241m.\u001b[39mPRNGKey(\u001b[38;5;241m208\u001b[39m)\n\u001b[1;32m      8\u001b[0m key, subkey \u001b[38;5;241m=\u001b[39m random\u001b[38;5;241m.\u001b[39msplit(key)\n",
      "File \u001b[0;32m~/miniconda3/envs/jaxosqp/lib/python3.11/site-packages/jax/experimental/sparse/transform.py:458\u001b[0m, in \u001b[0;36m_sparsify_with_interpreter.<locals>.wrapped\u001b[0;34m(*args, **params)\u001b[0m\n\u001b[1;32m    456\u001b[0m spenv \u001b[38;5;241m=\u001b[39m SparsifyEnv()\n\u001b[1;32m    457\u001b[0m spvalues \u001b[38;5;241m=\u001b[39m arrays_to_spvalues(spenv, args)\n\u001b[0;32m--> 458\u001b[0m spvalues_out, out_tree \u001b[38;5;241m=\u001b[39m f_raw(spenv, \u001b[38;5;241m*\u001b[39mspvalues, \u001b[38;5;241m*\u001b[39m\u001b[38;5;241m*\u001b[39mparams)\n\u001b[1;32m    459\u001b[0m out \u001b[38;5;241m=\u001b[39m spvalues_to_arrays(spenv, spvalues_out)\n\u001b[1;32m    460\u001b[0m \u001b[38;5;28;01mreturn\u001b[39;00m tree_unflatten(out_tree, out)\n",
      "File \u001b[0;32m~/miniconda3/envs/jaxosqp/lib/python3.11/site-packages/jax/experimental/sparse/transform.py:443\u001b[0m, in \u001b[0;36msparsify_raw.<locals>.wrapped\u001b[0;34m(spenv, *spvalues, **params)\u001b[0m\n\u001b[1;32m    441\u001b[0m wrapped_fun, out_tree \u001b[38;5;241m=\u001b[39m flatten_fun_nokwargs(lu\u001b[38;5;241m.\u001b[39mwrap_init(f, params), in_tree)\n\u001b[1;32m    442\u001b[0m jaxpr, out_avals_flat, consts \u001b[38;5;241m=\u001b[39m pe\u001b[38;5;241m.\u001b[39mtrace_to_jaxpr_dynamic(wrapped_fun, in_avals_flat)\n\u001b[0;32m--> 443\u001b[0m result \u001b[38;5;241m=\u001b[39m eval_sparse(jaxpr, consts, spvalues_flat, spenv)\n\u001b[1;32m    444\u001b[0m \u001b[38;5;28;01mif\u001b[39;00m \u001b[38;5;28mlen\u001b[39m(out_avals_flat) \u001b[38;5;241m!=\u001b[39m \u001b[38;5;28mlen\u001b[39m(result):\n\u001b[1;32m    445\u001b[0m   \u001b[38;5;28;01mraise\u001b[39;00m \u001b[38;5;167;01mException\u001b[39;00m(\u001b[38;5;124m\"\u001b[39m\u001b[38;5;124mInternal: eval_sparse does not return expected number of arguments. \u001b[39m\u001b[38;5;124m\"\u001b[39m\n\u001b[1;32m    446\u001b[0m                   \u001b[38;5;124m\"\u001b[39m\u001b[38;5;124mGot \u001b[39m\u001b[38;5;132;01m{result}\u001b[39;00m\u001b[38;5;124m for avals \u001b[39m\u001b[38;5;132;01m{out_avals_flat}\u001b[39;00m\u001b[38;5;124m\"\u001b[39m)\n",
      "File \u001b[0;32m~/miniconda3/envs/jaxosqp/lib/python3.11/site-packages/jax/experimental/sparse/transform.py:420\u001b[0m, in \u001b[0;36meval_sparse\u001b[0;34m(jaxpr, consts, spvalues, spenv)\u001b[0m\n\u001b[1;32m    418\u001b[0m   \u001b[38;5;28;01mif\u001b[39;00m prim \u001b[38;5;129;01mnot\u001b[39;00m \u001b[38;5;129;01min\u001b[39;00m sparse_rules_bcoo:\n\u001b[1;32m    419\u001b[0m     _raise_unimplemented_primitive(prim)\n\u001b[0;32m--> 420\u001b[0m   out \u001b[38;5;241m=\u001b[39m sparse_rules_bcoo[prim](spenv, \u001b[38;5;241m*\u001b[39minvals, \u001b[38;5;241m*\u001b[39m\u001b[38;5;241m*\u001b[39meqn\u001b[38;5;241m.\u001b[39mparams)\n\u001b[1;32m    421\u001b[0m \u001b[38;5;28;01melse\u001b[39;00m:\n\u001b[1;32m    422\u001b[0m   out_bufs \u001b[38;5;241m=\u001b[39m prim\u001b[38;5;241m.\u001b[39mbind(\u001b[38;5;241m*\u001b[39m(spenv\u001b[38;5;241m.\u001b[39mdata(val) \u001b[38;5;28;01mfor\u001b[39;00m val \u001b[38;5;129;01min\u001b[39;00m invals), \u001b[38;5;241m*\u001b[39m\u001b[38;5;241m*\u001b[39meqn\u001b[38;5;241m.\u001b[39mparams)\n",
      "File \u001b[0;32m~/miniconda3/envs/jaxosqp/lib/python3.11/site-packages/jax/experimental/sparse/transform.py:531\u001b[0m, in \u001b[0;36m_standard_sparse_rule.<locals>._sparse_rule\u001b[0;34m(spenv, *spvalues, **kwds)\u001b[0m\n\u001b[1;32m    530\u001b[0m \u001b[38;5;28;01mdef\u001b[39;00m \u001b[38;5;21m_sparse_rule\u001b[39m(spenv, \u001b[38;5;241m*\u001b[39mspvalues, \u001b[38;5;241m*\u001b[39m\u001b[38;5;241m*\u001b[39mkwds):\n\u001b[0;32m--> 531\u001b[0m   result \u001b[38;5;241m=\u001b[39m sparse_op(\u001b[38;5;241m*\u001b[39mspvalues_to_arrays(spenv, spvalues), \u001b[38;5;241m*\u001b[39m\u001b[38;5;241m*\u001b[39mkwds)\n\u001b[1;32m    532\u001b[0m   \u001b[38;5;28;01mreturn\u001b[39;00m arrays_to_spvalues(spenv, result \u001b[38;5;28;01mif\u001b[39;00m prim\u001b[38;5;241m.\u001b[39mmultiple_results \u001b[38;5;28;01melse\u001b[39;00m [result])\n",
      "File \u001b[0;32m~/miniconda3/envs/jaxosqp/lib/python3.11/site-packages/jax/experimental/sparse/bcoo.py:632\u001b[0m, in \u001b[0;36mbcoo_dot_general\u001b[0;34m(***failed resolving arguments***)\u001b[0m\n\u001b[1;32m    629\u001b[0m \u001b[38;5;28;01mif\u001b[39;00m \u001b[38;5;28misinstance\u001b[39m(lhs, BCOO) \u001b[38;5;129;01mand\u001b[39;00m \u001b[38;5;28misinstance\u001b[39m(rhs, BCOO):\n\u001b[1;32m    630\u001b[0m   shape \u001b[38;5;241m=\u001b[39m _dot_general_validated_shape(lhs\u001b[38;5;241m.\u001b[39mshape, rhs\u001b[38;5;241m.\u001b[39mshape,\n\u001b[1;32m    631\u001b[0m                                        dimension_numbers)\n\u001b[0;32m--> 632\u001b[0m   bufs \u001b[38;5;241m=\u001b[39m _bcoo_spdot_general(lhs\u001b[38;5;241m.\u001b[39mdata, lhs\u001b[38;5;241m.\u001b[39mindices, rhs\u001b[38;5;241m.\u001b[39mdata, rhs\u001b[38;5;241m.\u001b[39mindices,\n\u001b[1;32m    633\u001b[0m                              lhs_spinfo\u001b[38;5;241m=\u001b[39mlhs\u001b[38;5;241m.\u001b[39m_info, rhs_spinfo\u001b[38;5;241m=\u001b[39mrhs\u001b[38;5;241m.\u001b[39m_info,\n\u001b[1;32m    634\u001b[0m                              dimension_numbers\u001b[38;5;241m=\u001b[39mdimension_numbers)\n\u001b[1;32m    635\u001b[0m   \u001b[38;5;28;01mreturn\u001b[39;00m BCOO(bufs, shape\u001b[38;5;241m=\u001b[39mshape)\n\u001b[1;32m    636\u001b[0m \u001b[38;5;28;01melif\u001b[39;00m \u001b[38;5;28misinstance\u001b[39m(lhs, BCOO):\n",
      "File \u001b[0;32m~/miniconda3/envs/jaxosqp/lib/python3.11/site-packages/jax/experimental/sparse/bcoo.py:1050\u001b[0m, in \u001b[0;36m_bcoo_spdot_general\u001b[0;34m(lhs_data, lhs_indices, rhs_data, rhs_indices, lhs_spinfo, rhs_spinfo, dimension_numbers)\u001b[0m\n\u001b[1;32m   1046\u001b[0m cdims \u001b[38;5;241m=\u001b[39m (api_util\u001b[38;5;241m.\u001b[39m_ensure_index_tuple(lhs_contract),\n\u001b[1;32m   1047\u001b[0m          api_util\u001b[38;5;241m.\u001b[39m_ensure_index_tuple(rhs_contract))\n\u001b[1;32m   1048\u001b[0m bdims \u001b[38;5;241m=\u001b[39m (api_util\u001b[38;5;241m.\u001b[39m_ensure_index_tuple(lhs_batch),\n\u001b[1;32m   1049\u001b[0m          api_util\u001b[38;5;241m.\u001b[39m_ensure_index_tuple(rhs_batch))\n\u001b[0;32m-> 1050\u001b[0m \u001b[38;5;28;01mreturn\u001b[39;00m bcoo_spdot_general_p\u001b[38;5;241m.\u001b[39mbind(lhs_data, lhs_indices, rhs_data, rhs_indices,\n\u001b[1;32m   1051\u001b[0m                                  lhs_spinfo\u001b[38;5;241m=\u001b[39mlhs_spinfo, rhs_spinfo\u001b[38;5;241m=\u001b[39mrhs_spinfo,\n\u001b[1;32m   1052\u001b[0m                                  dimension_numbers\u001b[38;5;241m=\u001b[39m(cdims, bdims))\n",
      "    \u001b[0;31m[... skipping hidden 3 frame]\u001b[0m\n",
      "File \u001b[0;32m~/miniconda3/envs/jaxosqp/lib/python3.11/site-packages/jax/experimental/sparse/bcoo.py:1204\u001b[0m, in \u001b[0;36m_bcoo_spdot_general_batch_rule\u001b[0;34m(batched_args, batch_dims, lhs_spinfo, rhs_spinfo, dimension_numbers)\u001b[0m\n\u001b[1;32m   1200\u001b[0m rhs_data, rhs_indices, rhs_spinfo \u001b[38;5;241m=\u001b[39m _bcoo_batch_dims_to_front(\n\u001b[1;32m   1201\u001b[0m   batched_args[\u001b[38;5;241m2\u001b[39m:], batch_dims[\u001b[38;5;241m2\u001b[39m:], rhs_spinfo, batch_size\u001b[38;5;241m=\u001b[39mbatch_size)\n\u001b[1;32m   1202\u001b[0m dimension_numbers, result_batch_dim \u001b[38;5;241m=\u001b[39m _dot_general_batch_dim_nums(\n\u001b[1;32m   1203\u001b[0m     (lhs_ndim, rhs_ndim), (\u001b[38;5;241m0\u001b[39m, \u001b[38;5;241m0\u001b[39m), dimension_numbers)\n\u001b[0;32m-> 1204\u001b[0m batched_out \u001b[38;5;241m=\u001b[39m _bcoo_spdot_general(lhs_data, lhs_indices, rhs_data, rhs_indices,\n\u001b[1;32m   1205\u001b[0m                                   dimension_numbers\u001b[38;5;241m=\u001b[39mdimension_numbers,\n\u001b[1;32m   1206\u001b[0m                                   lhs_spinfo\u001b[38;5;241m=\u001b[39mlhs_spinfo, rhs_spinfo\u001b[38;5;241m=\u001b[39mrhs_spinfo)\n\u001b[1;32m   1207\u001b[0m \u001b[38;5;28;01mreturn\u001b[39;00m batched_out, (result_batch_dim, result_batch_dim)\n",
      "File \u001b[0;32m~/miniconda3/envs/jaxosqp/lib/python3.11/site-packages/jax/experimental/sparse/bcoo.py:1050\u001b[0m, in \u001b[0;36m_bcoo_spdot_general\u001b[0;34m(lhs_data, lhs_indices, rhs_data, rhs_indices, lhs_spinfo, rhs_spinfo, dimension_numbers)\u001b[0m\n\u001b[1;32m   1046\u001b[0m cdims \u001b[38;5;241m=\u001b[39m (api_util\u001b[38;5;241m.\u001b[39m_ensure_index_tuple(lhs_contract),\n\u001b[1;32m   1047\u001b[0m          api_util\u001b[38;5;241m.\u001b[39m_ensure_index_tuple(rhs_contract))\n\u001b[1;32m   1048\u001b[0m bdims \u001b[38;5;241m=\u001b[39m (api_util\u001b[38;5;241m.\u001b[39m_ensure_index_tuple(lhs_batch),\n\u001b[1;32m   1049\u001b[0m          api_util\u001b[38;5;241m.\u001b[39m_ensure_index_tuple(rhs_batch))\n\u001b[0;32m-> 1050\u001b[0m \u001b[38;5;28;01mreturn\u001b[39;00m bcoo_spdot_general_p\u001b[38;5;241m.\u001b[39mbind(lhs_data, lhs_indices, rhs_data, rhs_indices,\n\u001b[1;32m   1051\u001b[0m                                  lhs_spinfo\u001b[38;5;241m=\u001b[39mlhs_spinfo, rhs_spinfo\u001b[38;5;241m=\u001b[39mrhs_spinfo,\n\u001b[1;32m   1052\u001b[0m                                  dimension_numbers\u001b[38;5;241m=\u001b[39m(cdims, bdims))\n",
      "    \u001b[0;31m[... skipping hidden 3 frame]\u001b[0m\n",
      "File \u001b[0;32m~/miniconda3/envs/jaxosqp/lib/python3.11/site-packages/jax/experimental/sparse/bcoo.py:1134\u001b[0m, in \u001b[0;36m_bcoo_spdot_general_impl\u001b[0;34m(lhs_data, lhs_indices, rhs_data, rhs_indices, lhs_spinfo, rhs_spinfo, dimension_numbers)\u001b[0m\n\u001b[1;32m   1132\u001b[0m func \u001b[38;5;241m=\u001b[39m nfold_vmap(func, lhs\u001b[38;5;241m.\u001b[39mn_batch \u001b[38;5;241m-\u001b[39m \u001b[38;5;28mlen\u001b[39m(lhs_batch), in_axes\u001b[38;5;241m=\u001b[39m(\u001b[38;5;241m0\u001b[39m, \u001b[38;5;241m0\u001b[39m, \u001b[38;5;28;01mNone\u001b[39;00m, \u001b[38;5;28;01mNone\u001b[39;00m))\n\u001b[1;32m   1133\u001b[0m func \u001b[38;5;241m=\u001b[39m nfold_vmap(func, \u001b[38;5;28mlen\u001b[39m(lhs_batch))\n\u001b[0;32m-> 1134\u001b[0m \u001b[38;5;28;01mreturn\u001b[39;00m func(lhs_data, lhs_indices, rhs_data, rhs_indices)\n",
      "File \u001b[0;32m~/miniconda3/envs/jaxosqp/lib/python3.11/site-packages/jax/experimental/sparse/util.py:78\u001b[0m, in \u001b[0;36mbroadcasting_vmap.<locals>.batched_fun\u001b[0;34m(*args)\u001b[0m\n\u001b[1;32m     76\u001b[0m new_args \u001b[38;5;241m=\u001b[39m tree_util\u001b[38;5;241m.\u001b[39mtree_unflatten(in_tree, args_flat)\n\u001b[1;32m     77\u001b[0m new_in_axes \u001b[38;5;241m=\u001b[39m tree_util\u001b[38;5;241m.\u001b[39mtree_unflatten(in_tree, in_axes_flat)\n\u001b[0;32m---> 78\u001b[0m \u001b[38;5;28;01mreturn\u001b[39;00m vmap(fun, in_axes\u001b[38;5;241m=\u001b[39mnew_in_axes, out_axes\u001b[38;5;241m=\u001b[39mout_axes)(\u001b[38;5;241m*\u001b[39mnew_args)\n",
      "    \u001b[0;31m[... skipping hidden 3 frame]\u001b[0m\n",
      "File \u001b[0;32m~/miniconda3/envs/jaxosqp/lib/python3.11/site-packages/jax/experimental/sparse/bcoo.py:1098\u001b[0m, in \u001b[0;36m_bcoo_spdot_general_unbatched\u001b[0;34m(lhs_data, lhs_indices, rhs_data, rhs_indices, lhs_spinfo, rhs_spinfo, lhs_contracting, rhs_contracting, out_nse)\u001b[0m\n\u001b[1;32m   1095\u001b[0m out_indices \u001b[38;5;241m=\u001b[39m out_indices\u001b[38;5;241m.\u001b[39mreshape(\u001b[38;5;28mlen\u001b[39m(out_data), out_indices\u001b[38;5;241m.\u001b[39mshape[\u001b[38;5;241m-\u001b[39m\u001b[38;5;241m1\u001b[39m])\n\u001b[1;32m   1096\u001b[0m \u001b[38;5;66;03m# Note: we do not eliminate zeros here, because it can cause issues with autodiff.\u001b[39;00m\n\u001b[1;32m   1097\u001b[0m \u001b[38;5;66;03m# See https://github.com/google/jax/issues/10163.\u001b[39;00m\n\u001b[0;32m-> 1098\u001b[0m \u001b[38;5;28;01mreturn\u001b[39;00m _bcoo_sum_duplicates(out_data, out_indices, spinfo\u001b[38;5;241m=\u001b[39mSparseInfo(shape\u001b[38;5;241m=\u001b[39mout_shape), nse\u001b[38;5;241m=\u001b[39mout_nse)\n",
      "File \u001b[0;32m~/miniconda3/envs/jaxosqp/lib/python3.11/site-packages/jax/experimental/sparse/bcoo.py:1343\u001b[0m, in \u001b[0;36m_bcoo_sum_duplicates\u001b[0;34m(data, indices, spinfo, nse)\u001b[0m\n\u001b[1;32m   1341\u001b[0m \u001b[38;5;28;01mif\u001b[39;00m nse \u001b[38;5;129;01mis\u001b[39;00m \u001b[38;5;129;01mnot\u001b[39;00m \u001b[38;5;28;01mNone\u001b[39;00m:\n\u001b[1;32m   1342\u001b[0m   nse \u001b[38;5;241m=\u001b[39m core\u001b[38;5;241m.\u001b[39mconcrete_or_error(operator\u001b[38;5;241m.\u001b[39mindex, nse, \u001b[38;5;124m\"\u001b[39m\u001b[38;5;124mnse argument of bcoo_sum_duplicates.\u001b[39m\u001b[38;5;124m\"\u001b[39m)\n\u001b[0;32m-> 1343\u001b[0m \u001b[38;5;28;01mreturn\u001b[39;00m bcoo_sum_duplicates_p\u001b[38;5;241m.\u001b[39mbind(data, indices, spinfo\u001b[38;5;241m=\u001b[39mspinfo, nse\u001b[38;5;241m=\u001b[39mnse)\n",
      "    \u001b[0;31m[... skipping hidden 3 frame]\u001b[0m\n",
      "File \u001b[0;32m~/miniconda3/envs/jaxosqp/lib/python3.11/site-packages/jax/experimental/sparse/bcoo.py:1446\u001b[0m, in \u001b[0;36m_bcoo_sum_duplicates_batching_rule\u001b[0;34m(batched_args, batch_dims, spinfo, nse)\u001b[0m\n\u001b[1;32m   1444\u001b[0m \u001b[38;5;28;01mdef\u001b[39;00m \u001b[38;5;21m_bcoo_sum_duplicates_batching_rule\u001b[39m(batched_args, batch_dims, \u001b[38;5;241m*\u001b[39m, spinfo, nse):\n\u001b[1;32m   1445\u001b[0m   data, indices, new_spinfo \u001b[38;5;241m=\u001b[39m _bcoo_batch_dims_to_front(batched_args, batch_dims, spinfo)\n\u001b[0;32m-> 1446\u001b[0m   data_out, indices_out \u001b[38;5;241m=\u001b[39m bcoo_sum_duplicates_p\u001b[38;5;241m.\u001b[39mbind(data, indices, spinfo\u001b[38;5;241m=\u001b[39mnew_spinfo, nse\u001b[38;5;241m=\u001b[39mnse)\n\u001b[1;32m   1447\u001b[0m   \u001b[38;5;66;03m# Note: if data is unbatched on input, it will be batched on output.\u001b[39;00m\n\u001b[1;32m   1448\u001b[0m   \u001b[38;5;66;03m# However, if indices are unbatched on input, they will be unbatched on output.\u001b[39;00m\n\u001b[1;32m   1449\u001b[0m   \u001b[38;5;28;01mif\u001b[39;00m batch_dims[\u001b[38;5;241m1\u001b[39m] \u001b[38;5;129;01mis\u001b[39;00m \u001b[38;5;28;01mNone\u001b[39;00m:\n",
      "    \u001b[0;31m[... skipping hidden 3 frame]\u001b[0m\n",
      "File \u001b[0;32m~/miniconda3/envs/jaxosqp/lib/python3.11/site-packages/jax/experimental/sparse/bcoo.py:1348\u001b[0m, in \u001b[0;36m_bcoo_sum_duplicates_impl\u001b[0;34m(data, indices, spinfo, nse)\u001b[0m\n\u001b[1;32m   1345\u001b[0m \u001b[38;5;129m@bcoo_sum_duplicates_p\u001b[39m\u001b[38;5;241m.\u001b[39mdef_impl\n\u001b[1;32m   1346\u001b[0m \u001b[38;5;28;01mdef\u001b[39;00m \u001b[38;5;21m_bcoo_sum_duplicates_impl\u001b[39m(data, indices, \u001b[38;5;241m*\u001b[39m, spinfo, nse):\n\u001b[1;32m   1347\u001b[0m   props \u001b[38;5;241m=\u001b[39m _validate_bcoo(data, indices, spinfo\u001b[38;5;241m.\u001b[39mshape)\n\u001b[0;32m-> 1348\u001b[0m   indices_out, mapping, nse_batched \u001b[38;5;241m=\u001b[39m _unique_indices(\n\u001b[1;32m   1349\u001b[0m     indices, shape\u001b[38;5;241m=\u001b[39mspinfo\u001b[38;5;241m.\u001b[39mshape, return_inverse\u001b[38;5;241m=\u001b[39m\u001b[38;5;28;01mTrue\u001b[39;00m, return_true_size\u001b[38;5;241m=\u001b[39m\u001b[38;5;28;01mTrue\u001b[39;00m)\n\u001b[1;32m   1350\u001b[0m   \u001b[38;5;28;01mif\u001b[39;00m nse \u001b[38;5;129;01mis\u001b[39;00m \u001b[38;5;28;01mNone\u001b[39;00m:\n\u001b[1;32m   1351\u001b[0m     nse \u001b[38;5;241m=\u001b[39m \u001b[38;5;241m1\u001b[39m \u001b[38;5;28;01mif\u001b[39;00m props\u001b[38;5;241m.\u001b[39mn_sparse \u001b[38;5;241m==\u001b[39m \u001b[38;5;241m0\u001b[39m \u001b[38;5;28;01melse\u001b[39;00m nse_batched\u001b[38;5;241m.\u001b[39mmax()\n",
      "File \u001b[0;32m~/miniconda3/envs/jaxosqp/lib/python3.11/site-packages/jax/experimental/sparse/bcoo.py:1382\u001b[0m, in \u001b[0;36m_unique_indices\u001b[0;34m(indices, shape, return_inverse, return_index, return_true_size)\u001b[0m\n\u001b[1;32m   1378\u001b[0m f \u001b[38;5;241m=\u001b[39m partial(_unique_indices_unbatched, shape\u001b[38;5;241m=\u001b[39mshape[props\u001b[38;5;241m.\u001b[39mn_batch:],\n\u001b[1;32m   1379\u001b[0m             return_inverse\u001b[38;5;241m=\u001b[39mreturn_inverse, return_index\u001b[38;5;241m=\u001b[39mreturn_index,\n\u001b[1;32m   1380\u001b[0m             return_true_size\u001b[38;5;241m=\u001b[39mreturn_true_size)\n\u001b[1;32m   1381\u001b[0m f \u001b[38;5;241m=\u001b[39m nfold_vmap(f, props\u001b[38;5;241m.\u001b[39mn_batch, broadcasted\u001b[38;5;241m=\u001b[39m\u001b[38;5;28;01mFalse\u001b[39;00m)\n\u001b[0;32m-> 1382\u001b[0m \u001b[38;5;28;01mreturn\u001b[39;00m f(indices)\n",
      "    \u001b[0;31m[... skipping hidden 3 frame]\u001b[0m\n",
      "File \u001b[0;32m~/miniconda3/envs/jaxosqp/lib/python3.11/site-packages/jax/experimental/sparse/bcoo.py:1402\u001b[0m, in \u001b[0;36m_unique_indices_unbatched\u001b[0;34m(indices, shape, return_inverse, return_index, return_true_size)\u001b[0m\n\u001b[1;32m   1400\u001b[0m indices \u001b[38;5;241m=\u001b[39m jnp\u001b[38;5;241m.\u001b[39mwhere(out_of_bounds, fill_value, indices)\n\u001b[1;32m   1401\u001b[0m \u001b[38;5;66;03m# TODO: check if `indices_sorted` is True.\u001b[39;00m\n\u001b[0;32m-> 1402\u001b[0m out \u001b[38;5;241m=\u001b[39m _unique(indices, axis\u001b[38;5;241m=\u001b[39m\u001b[38;5;241m0\u001b[39m, return_inverse\u001b[38;5;241m=\u001b[39mreturn_inverse, return_index\u001b[38;5;241m=\u001b[39mreturn_index,\n\u001b[1;32m   1403\u001b[0m               return_true_size\u001b[38;5;241m=\u001b[39mreturn_true_size, size\u001b[38;5;241m=\u001b[39mprops\u001b[38;5;241m.\u001b[39mnse, fill_value\u001b[38;5;241m=\u001b[39mfill_value)\n\u001b[1;32m   1404\u001b[0m \u001b[38;5;28;01mif\u001b[39;00m return_true_size:\n\u001b[1;32m   1405\u001b[0m   nse \u001b[38;5;241m=\u001b[39m out[\u001b[38;5;241m-\u001b[39m\u001b[38;5;241m1\u001b[39m]\n",
      "File \u001b[0;32m~/miniconda3/envs/jaxosqp/lib/python3.11/site-packages/jax/_src/numpy/setops.py:266\u001b[0m, in \u001b[0;36m_unique\u001b[0;34m(ar, axis, return_index, return_inverse, return_counts, size, fill_value, return_true_size)\u001b[0m\n\u001b[1;32m    262\u001b[0m \u001b[38;5;28;01mif\u001b[39;00m ar\u001b[38;5;241m.\u001b[39mshape[axis] \u001b[38;5;241m==\u001b[39m \u001b[38;5;241m0\u001b[39m \u001b[38;5;129;01mand\u001b[39;00m size \u001b[38;5;129;01mand\u001b[39;00m fill_value \u001b[38;5;129;01mis\u001b[39;00m \u001b[38;5;28;01mNone\u001b[39;00m:\n\u001b[1;32m    263\u001b[0m   \u001b[38;5;28;01mraise\u001b[39;00m \u001b[38;5;167;01mValueError\u001b[39;00m(\n\u001b[1;32m    264\u001b[0m     \u001b[38;5;124m\"\u001b[39m\u001b[38;5;124mjnp.unique: for zero-sized input with nonzero size argument, fill_value must be specified\u001b[39m\u001b[38;5;124m\"\u001b[39m)\n\u001b[0;32m--> 266\u001b[0m aux, mask, perm \u001b[38;5;241m=\u001b[39m _unique_sorted_mask(ar, axis)\n\u001b[1;32m    267\u001b[0m \u001b[38;5;28;01mif\u001b[39;00m size \u001b[38;5;129;01mis\u001b[39;00m \u001b[38;5;28;01mNone\u001b[39;00m:\n\u001b[1;32m    268\u001b[0m   ind \u001b[38;5;241m=\u001b[39m core\u001b[38;5;241m.\u001b[39mconcrete_or_error(\u001b[38;5;28;01mNone\u001b[39;00m, mask,\n\u001b[1;32m    269\u001b[0m       \u001b[38;5;124m\"\u001b[39m\u001b[38;5;124mThe error arose in jnp.unique(). \u001b[39m\u001b[38;5;124m\"\u001b[39m \u001b[38;5;241m+\u001b[39m UNIQUE_SIZE_HINT)\n",
      "    \u001b[0;31m[... skipping hidden 12 frame]\u001b[0m\n",
      "File \u001b[0;32m~/miniconda3/envs/jaxosqp/lib/python3.11/site-packages/jax/_src/interpreters/pxla.py:1346\u001b[0m, in \u001b[0;36mExecuteReplicated.__call__\u001b[0;34m(self, *args)\u001b[0m\n\u001b[1;32m   1341\u001b[0m   \u001b[38;5;28mself\u001b[39m\u001b[38;5;241m.\u001b[39m_handle_token_bufs(\n\u001b[1;32m   1342\u001b[0m       results\u001b[38;5;241m.\u001b[39mdisassemble_prefix_into_single_device_arrays(\n\u001b[1;32m   1343\u001b[0m           \u001b[38;5;28mlen\u001b[39m(\u001b[38;5;28mself\u001b[39m\u001b[38;5;241m.\u001b[39mordered_effects)),\n\u001b[1;32m   1344\u001b[0m       results\u001b[38;5;241m.\u001b[39mconsume_token())\n\u001b[1;32m   1345\u001b[0m \u001b[38;5;28;01melse\u001b[39;00m:\n\u001b[0;32m-> 1346\u001b[0m   results \u001b[38;5;241m=\u001b[39m \u001b[38;5;28mself\u001b[39m\u001b[38;5;241m.\u001b[39mxla_executable\u001b[38;5;241m.\u001b[39mexecute_sharded(input_bufs)\n\u001b[1;32m   1347\u001b[0m \u001b[38;5;28;01mif\u001b[39;00m dispatch\u001b[38;5;241m.\u001b[39mneeds_check_special():\n\u001b[1;32m   1348\u001b[0m   out_arrays \u001b[38;5;241m=\u001b[39m results\u001b[38;5;241m.\u001b[39mdisassemble_into_single_device_arrays()\n",
      "\u001b[0;31mXlaRuntimeError\u001b[0m: RESOURCE_EXHAUSTED: Out of memory while trying to allocate 3600000160 bytes.\nBufferAssignment OOM Debugging.\nBufferAssignment stats:\n             parameter allocation:    1.68GiB\n              constant allocation:         1B\n        maybe_live_out allocation:    2.72GiB\n     preallocated temp allocation:    3.35GiB\n  preallocated temp fragmentation:         0B (0.00%)\n                 total allocation:    7.75GiB\n              total fragmentation:  214.58MiB (2.70%)\nPeak buffers:\n\tBuffer 1:\n\t\tSize: 1.68GiB\n\t\tEntry Parameter Subshape: s32[100,2250000,2]\n\t\t==========================\n\n\tBuffer 2:\n\t\tSize: 1.68GiB\n\t\tXLA Label: fusion\n\t\tShape: s32[100,2250000,2]\n\t\t==========================\n\n\tBuffer 3:\n\t\tSize: 858.31MiB\n\t\tOperator: op_name=\"jit(_unique_sorted_mask)/jit(main)/jit(lexsort)/sort[dimension=1 is_stable=True num_keys=2]\" source_file=\"/tmp/ipykernel_568016/825966277.py\" source_line=6\n\t\tXLA Label: sort\n\t\tShape: s32[100,2250000]\n\t\t==========================\n\n\tBuffer 4:\n\t\tSize: 858.31MiB\n\t\tOperator: op_name=\"jit(_unique_sorted_mask)/jit(main)/jit(lexsort)/sort[dimension=1 is_stable=True num_keys=2]\" source_file=\"/tmp/ipykernel_568016/825966277.py\" source_line=6\n\t\tXLA Label: sort\n\t\tShape: s32[100,2250000]\n\t\t==========================\n\n\tBuffer 5:\n\t\tSize: 858.31MiB\n\t\tOperator: op_name=\"jit(_unique_sorted_mask)/jit(main)/jit(lexsort)/broadcast_in_dim[shape=(100, 2250000) broadcast_dimensions=(1,)]\" source_file=\"/tmp/ipykernel_568016/825966277.py\" source_line=6\n\t\tXLA Label: iota\n\t\tShape: s32[100,2250000]\n\t\t==========================\n\n\tBuffer 6:\n\t\tSize: 858.31MiB\n\t\tXLA Label: fusion\n\t\tShape: s32[100,2250000]\n\t\t==========================\n\n\tBuffer 7:\n\t\tSize: 858.31MiB\n\t\tOperator: op_name=\"jit(_unique_sorted_mask)/jit(main)/jit(lexsort)/sort[dimension=1 is_stable=True num_keys=2]\" source_file=\"/tmp/ipykernel_568016/825966277.py\" source_line=6\n\t\tXLA Label: sort\n\t\tShape: s32[100,2250000]\n\t\t==========================\n\n\tBuffer 8:\n\t\tSize: 214.58MiB\n\t\tOperator: op_name=\"jit(_unique_sorted_mask)/jit(main)/scatter[update_consts=() dimension_numbers=ScatterDimensionNumbers(update_window_dims=(0, 1), inserted_window_dims=(), scatter_dims_to_operand_dims=(1,)) indices_are_sorted=True unique_indices=True mode=GatherScatterMode.FILL_OR_DROP]\" source_file=\"/tmp/ipykernel_568016/825966277.py\" source_line=6\n\t\tXLA Label: pad\n\t\tShape: pred[100,2250000]\n\t\t==========================\n\n\tBuffer 9:\n\t\tSize: 32B\n\t\tOperator: op_name=\"jit(_unique_sorted_mask)/jit(main)/jit(lexsort)/sort[dimension=1 is_stable=True num_keys=2]\" source_file=\"/tmp/ipykernel_568016/825966277.py\" source_line=6\n\t\tXLA Label: sort\n\t\tShape: (s32[100,2250000], s32[100,2250000], s32[100,2250000], s32[100,2250000])\n\t\t==========================\n\n\tBuffer 10:\n\t\tSize: 24B\n\t\tXLA Label: tuple\n\t\tShape: (s32[100,2250000,2], pred[100,2250000], s32[100,2250000])\n\t\t==========================\n\n\tBuffer 11:\n\t\tSize: 16B\n\t\tXLA Label: fusion\n\t\tShape: (s32[100,2250000], s32[100,2250000])\n\t\t==========================\n\n\tBuffer 12:\n\t\tSize: 4B\n\t\tXLA Label: parameter\n\t\tShape: s32[]\n\t\t==========================\n\n\tBuffer 13:\n\t\tSize: 4B\n\t\tXLA Label: parameter\n\t\tShape: s32[]\n\t\t==========================\n\n\tBuffer 14:\n\t\tSize: 4B\n\t\tXLA Label: parameter\n\t\tShape: s32[]\n\t\t==========================\n\n\tBuffer 15:\n\t\tSize: 4B\n\t\tXLA Label: parameter\n\t\tShape: s32[]\n\t\t==========================\n\n"
     ]
    }
   ],
   "source": [
    "# Generate some random problem data.\n",
    "B = 100\n",
    "n = 100\n",
    "m = 10*n\n",
    "\n",
    "outer = lambda A: A @ A.T + 1e-2 * sparse.eye(n)\n",
    "key = random.PRNGKey(208)\n",
    "key, subkey = random.split(key)\n",
    "P = sparse.random_bcoo(key, (B, n, n), nse=0.15, n_batch=1, generator=random.normal)\n",
    "P = jax.vmap(outer)(P).todense() # Ensure P >= 0.\n",
    "\n",
    "key, subkey = random.split(key)\n",
    "q = random.normal(subkey, (B, n))\n",
    "key, subkey = random.split(key)\n",
    "\n",
    "# Add some random constraints (a la OSQP benchmarks\n",
    "A = sparse.random_bcoo(subkey, (B, m, n), nse=0.15, n_batch=1, generator=random.normal).todense()\n",
    "key, subkey = random.split(key)\n",
    "l = -random.uniform(subkey, (B, m))\n",
    "key, subkey = random.split(key)\n",
    "u = random.uniform(subkey, (B, m))\n",
    "\n",
    "prob, data, state = osqp.OSQPProblem.from_data(P, q, A, l, u)\n",
    "state = prob.step(data, state)"
   ]
  },
  {
   "cell_type": "code",
   "execution_count": 27,
   "id": "3177162c-79c9-4120-a910-914cdfe8aebf",
   "metadata": {},
   "outputs": [
    {
     "ename": "TypeError",
     "evalue": "cannot unpack non-iterable OSQPState object",
     "output_type": "error",
     "traceback": [
      "\u001b[0;31m---------------------------------------------------------------------------\u001b[0m",
      "\u001b[0;31mTypeError\u001b[0m                                 Traceback (most recent call last)",
      "Cell \u001b[0;32mIn[27], line 8\u001b[0m\n\u001b[1;32m      4\u001b[0m         data, state \u001b[38;5;241m=\u001b[39m prob\u001b[38;5;241m.\u001b[39mstep(data, state)\n\u001b[1;32m      6\u001b[0m     \u001b[38;5;28;01mreturn\u001b[39;00m data, state\n\u001b[0;32m----> 8\u001b[0m get_ipython()\u001b[38;5;241m.\u001b[39mrun_line_magic(\u001b[38;5;124m'\u001b[39m\u001b[38;5;124mtimeit\u001b[39m\u001b[38;5;124m'\u001b[39m, \u001b[38;5;124m'\u001b[39m\u001b[38;5;124msolve(prob, data, state)\u001b[39m\u001b[38;5;124m'\u001b[39m)\n",
      "File \u001b[0;32m~/miniconda3/envs/jaxosqp/lib/python3.11/site-packages/IPython/core/interactiveshell.py:2414\u001b[0m, in \u001b[0;36mInteractiveShell.run_line_magic\u001b[0;34m(self, magic_name, line, _stack_depth)\u001b[0m\n\u001b[1;32m   2412\u001b[0m     kwargs[\u001b[38;5;124m'\u001b[39m\u001b[38;5;124mlocal_ns\u001b[39m\u001b[38;5;124m'\u001b[39m] \u001b[38;5;241m=\u001b[39m \u001b[38;5;28mself\u001b[39m\u001b[38;5;241m.\u001b[39mget_local_scope(stack_depth)\n\u001b[1;32m   2413\u001b[0m \u001b[38;5;28;01mwith\u001b[39;00m \u001b[38;5;28mself\u001b[39m\u001b[38;5;241m.\u001b[39mbuiltin_trap:\n\u001b[0;32m-> 2414\u001b[0m     result \u001b[38;5;241m=\u001b[39m fn(\u001b[38;5;241m*\u001b[39margs, \u001b[38;5;241m*\u001b[39m\u001b[38;5;241m*\u001b[39mkwargs)\n\u001b[1;32m   2416\u001b[0m \u001b[38;5;66;03m# The code below prevents the output from being displayed\u001b[39;00m\n\u001b[1;32m   2417\u001b[0m \u001b[38;5;66;03m# when using magics with decodator @output_can_be_silenced\u001b[39;00m\n\u001b[1;32m   2418\u001b[0m \u001b[38;5;66;03m# when the last Python token in the expression is a ';'.\u001b[39;00m\n\u001b[1;32m   2419\u001b[0m \u001b[38;5;28;01mif\u001b[39;00m \u001b[38;5;28mgetattr\u001b[39m(fn, magic\u001b[38;5;241m.\u001b[39mMAGIC_OUTPUT_CAN_BE_SILENCED, \u001b[38;5;28;01mFalse\u001b[39;00m):\n",
      "File \u001b[0;32m~/miniconda3/envs/jaxosqp/lib/python3.11/site-packages/IPython/core/magics/execution.py:1170\u001b[0m, in \u001b[0;36mExecutionMagics.timeit\u001b[0;34m(self, line, cell, local_ns)\u001b[0m\n\u001b[1;32m   1168\u001b[0m \u001b[38;5;28;01mfor\u001b[39;00m index \u001b[38;5;129;01min\u001b[39;00m \u001b[38;5;28mrange\u001b[39m(\u001b[38;5;241m0\u001b[39m, \u001b[38;5;241m10\u001b[39m):\n\u001b[1;32m   1169\u001b[0m     number \u001b[38;5;241m=\u001b[39m \u001b[38;5;241m10\u001b[39m \u001b[38;5;241m*\u001b[39m\u001b[38;5;241m*\u001b[39m index\n\u001b[0;32m-> 1170\u001b[0m     time_number \u001b[38;5;241m=\u001b[39m timer\u001b[38;5;241m.\u001b[39mtimeit(number)\n\u001b[1;32m   1171\u001b[0m     \u001b[38;5;28;01mif\u001b[39;00m time_number \u001b[38;5;241m>\u001b[39m\u001b[38;5;241m=\u001b[39m \u001b[38;5;241m0.2\u001b[39m:\n\u001b[1;32m   1172\u001b[0m         \u001b[38;5;28;01mbreak\u001b[39;00m\n",
      "File \u001b[0;32m~/miniconda3/envs/jaxosqp/lib/python3.11/site-packages/IPython/core/magics/execution.py:158\u001b[0m, in \u001b[0;36mTimer.timeit\u001b[0;34m(self, number)\u001b[0m\n\u001b[1;32m    156\u001b[0m gc\u001b[38;5;241m.\u001b[39mdisable()\n\u001b[1;32m    157\u001b[0m \u001b[38;5;28;01mtry\u001b[39;00m:\n\u001b[0;32m--> 158\u001b[0m     timing \u001b[38;5;241m=\u001b[39m \u001b[38;5;28mself\u001b[39m\u001b[38;5;241m.\u001b[39minner(it, \u001b[38;5;28mself\u001b[39m\u001b[38;5;241m.\u001b[39mtimer)\n\u001b[1;32m    159\u001b[0m \u001b[38;5;28;01mfinally\u001b[39;00m:\n\u001b[1;32m    160\u001b[0m     \u001b[38;5;28;01mif\u001b[39;00m gcold:\n",
      "File \u001b[0;32m<magic-timeit>:1\u001b[0m, in \u001b[0;36minner\u001b[0;34m(_it, _timer)\u001b[0m\n",
      "Cell \u001b[0;32mIn[27], line 4\u001b[0m, in \u001b[0;36msolve\u001b[0;34m(prob, data, state)\u001b[0m\n\u001b[1;32m      2\u001b[0m \u001b[38;5;28;01mdef\u001b[39;00m \u001b[38;5;21msolve\u001b[39m(prob, data, state):\n\u001b[1;32m      3\u001b[0m     \u001b[38;5;28;01mfor\u001b[39;00m ii \u001b[38;5;129;01min\u001b[39;00m \u001b[38;5;28mrange\u001b[39m(\u001b[38;5;241m100\u001b[39m):\n\u001b[0;32m----> 4\u001b[0m         data, state \u001b[38;5;241m=\u001b[39m prob\u001b[38;5;241m.\u001b[39mstep(data, state)\n\u001b[1;32m      6\u001b[0m     \u001b[38;5;28;01mreturn\u001b[39;00m data, state\n",
      "\u001b[0;31mTypeError\u001b[0m: cannot unpack non-iterable OSQPState object"
     ]
    }
   ],
   "source": [
    "prob, data, state = osqp.OSQPProblem.from_data(P, q, A, l, u)\n",
    "def solve(prob, data, state):\n",
    "    for ii in range(100):\n",
    "        data, state = prob.step(data, state)\n",
    "        \n",
    "    return data, state\n",
    "\n",
    "%timeit solve(prob, data, state)"
   ]
  },
  {
   "cell_type": "code",
   "execution_count": 35,
   "id": "9c8325fa-ea0b-494c-bafb-332cbdf3149a",
   "metadata": {},
   "outputs": [
    {
     "data": {
      "text/plain": [
       "Text(0, 0.5, 'solve time (batch of 100), ms')"
      ]
     },
     "execution_count": 35,
     "metadata": {},
     "output_type": "execute_result"
    },
    {
     "data": {
      "image/png": "[encoded data removed]",
      "text/plain": [
       "<Figure size 640x480 with 1 Axes>"
      ]
     },
     "metadata": {},
     "output_type": "display_data"
    }
   ],
   "source": [
    "n_vals = [4, 8, 16, 32, 64, 128, 256, 512]\n",
    "times = [10.9, 9.01, 9.7, 10.3, 12, 39.6, 149, 534]\n",
    "\n",
    "from matplotlib import pyplot as plt\n",
    "\n",
    "plt.plot(n_vals, times)\n",
    "# plt.xscale('log')\n",
    "# plt.yscale('log')\n",
    "plt.xlabel('problem size, n')\n",
    "plt.ylabel('solve time (batch of 100), ms')"
   ]
  },
  {
   "cell_type": "code",
   "execution_count": 20,
   "id": "5138e842-a608-4d0c-8861-a14b8e95354d",
   "metadata": {},
   "outputs": [],
   "source": [
    "prob, data, state = osqp.OSQPProblem.from_data(P, q, A, l, u)\n",
    "state = prob.solve(data, state)"
   ]
  },
  {
   "cell_type": "code",
   "execution_count": 28,
   "id": "7f20f193-d860-4431-afa2-b72549731ae0",
   "metadata": {},
   "outputs": [
    {
     "name": "stdout",
     "output_type": "stream",
     "text": [
      "CPU times: user 1.36 s, sys: 0 ns, total: 1.36 s\n",
      "Wall time: 1.06 s\n"
     ]
    }
   ],
   "source": [
    "prob, data, state = osqp.OSQPProblem.from_data(P, q, A, l, u)\n",
    "%time state = prob.solve(data, state)"
   ]
  },
  {
   "cell_type": "code",
   "execution_count": 29,
   "id": "7aac2bb1-586b-4a25-8295-b3b151308e0a",
   "metadata": {},
   "outputs": [
    {
     "name": "stdout",
     "output_type": "stream",
     "text": [
      "CPU times: user 652 ms, sys: 274 µs, total: 652 ms\n",
      "Wall time: 652 ms\n"
     ]
    }
   ],
   "source": [
    "prob, data, state = osqp.OSQPProblem.from_data(P, q, A, l, u)\n",
    "%time state = prob.solve(data, state)"
   ]
  },
  {
   "cell_type": "code",
   "execution_count": 162,
   "id": "54286abe-1c99-4d5a-824d-f9dd7f9851e9",
   "metadata": {},
   "outputs": [
    {
     "data": {
      "text/plain": [
       "Array([2.005999 , 2.1144671, 2.004582 , 2.5526845, 2.1723697], dtype=float32)"
      ]
     },
     "execution_count": 162,
     "metadata": {},
     "output_type": "execute_result"
    }
   ],
   "source": [
    "A = sparse.random_bcoo(key, (5, 2, 2), nse=0.15, n_batch=1, generator=random.normal)\n",
    "sum_x = jax.vmap(sparse.sparsify(lambda x: jnp.sum(x @ x.T + sparse.eye(2))))\n",
    "\n",
    "sum_x(A)"
   ]
  }
 ],
 "metadata": {
  "kernelspec": {
   "display_name": "jaxosqp",
   "language": "python",
   "name": "jaxosqp"
  },
  "language_info": {
   "codemirror_mode": {
    "name": "ipython",
    "version": 3
   },
   "file_extension": ".py",
   "mimetype": "text/x-python",
   "name": "python",
   "nbconvert_exporter": "python",
   "pygments_lexer": "ipython3",
   "version": "3.11.3"
  }
 },
 "nbformat": 4,
 "nbformat_minor": 5
}
